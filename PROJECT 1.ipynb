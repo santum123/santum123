{
 "cells": [
  {
   "cell_type": "code",
   "execution_count": null,
   "id": "7f71b66b",
   "metadata": {},
   "outputs": [],
   "source": [
    "#1- Write a Python program to replace all occurrences of a space, comma, or dot with a colon.\n",
    "Sample Text- 'Python Exercises, PHP exercises.'\n",
    "Expected Output: Python:Exercises::PHP:exercises:\n"
   ]
  },
  {
   "cell_type": "code",
   "execution_count": 1,
   "id": "72ec6b6b",
   "metadata": {},
   "outputs": [
    {
     "name": "stdout",
     "output_type": "stream",
     "text": [
      "python:exercises::PHP:exercises:\n"
     ]
    }
   ],
   "source": [
    "#replace all occurrences of a space,coma,or dot with a colon\n",
    "import re\n",
    "text= 'python exercises, PHP exercises.'\n",
    "sub= re.sub('[ ,.]',':',text)\n",
    "print(sub)"
   ]
  },
  {
   "cell_type": "code",
   "execution_count": 7,
   "id": "86666ffc",
   "metadata": {},
   "outputs": [
    {
     "name": "stdout",
     "output_type": "stream",
     "text": [
      "0     helloworld\n",
      "1       xxxxtest\n",
      "2    fourfivesix\n",
      "Name: SUMMARY, dtype: object\n"
     ]
    }
   ],
   "source": [
    "#2-Create a dataframe using the dictionary below and remove everything (commas (,), !, XXXX, ;, etc.) from the columns except words.\n",
    "#Dictionary- {'SUMMARY' : ['hello, world!', 'XXXXX test', '123four, five:; six...']}\n",
    "\n",
    "import re\n",
    "import pandas as pd\n",
    "data={'SUMMARY':['hello,world!','xxxxtest','123four,five,six...']}\n",
    "df=pd.DataFrame(data)\n",
    "df['SUMMARY']=df['SUMMARY'].str.replace('[^a-zA-Z\\s]','',regex=True)\n",
    "print(df['SUMMARY'])\n",
    "\n"
   ]
  },
  {
   "cell_type": "code",
   "execution_count": 6,
   "id": "1c075639",
   "metadata": {},
   "outputs": [
    {
     "name": "stdout",
     "output_type": "stream",
     "text": [
      "['find', 'words', 'that', 'least', 'characters', 'long']\n"
     ]
    }
   ],
   "source": [
    "#3-Create a function in python to find all words that are at least 4 characters long in a string. The use of the re.compile() method is mandatory\n",
    "\n",
    "import re\n",
    "text= 'find all words that are at least 4 characters long'\n",
    "pattern= re.compile(r'\\b\\w{4,}\\b')\n",
    "print(re.findall(pattern,text))"
   ]
  },
  {
   "cell_type": "code",
   "execution_count": 84,
   "id": "9603a492",
   "metadata": {},
   "outputs": [
    {
     "name": "stdout",
     "output_type": "stream",
     "text": [
      "['find', 'all', 'three', 'four', 'and', 'five', 'word']\n"
     ]
    }
   ],
   "source": [
    "##4-Create a function in python to find all three, four, and five character words in a string.\n",
    "import re\n",
    "text='find all three,four,and five character word in a string'\n",
    "pattern=re.compile(r'\\b\\w{3,5}\\b')\n",
    "matches= pattern.findall(text)\n",
    "print(matches)\n"
   ]
  },
  {
   "cell_type": "code",
   "execution_count": 5,
   "id": "adab969e",
   "metadata": {},
   "outputs": [
    {
     "ename": "TypeError",
     "evalue": "expected string or bytes-like object, got 'list'",
     "output_type": "error",
     "traceback": [
      "\u001b[1;31m---------------------------------------------------------------------------\u001b[0m",
      "\u001b[1;31mTypeError\u001b[0m                                 Traceback (most recent call last)",
      "Cell \u001b[1;32mIn[5], line 5\u001b[0m\n\u001b[0;32m      3\u001b[0m Text\u001b[38;5;241m=\u001b[39m[\u001b[38;5;124m\"\u001b[39m\u001b[38;5;124mexample (.com)\u001b[39m\u001b[38;5;124m\"\u001b[39m, \u001b[38;5;124m\"\u001b[39m\u001b[38;5;124mhr@fliprobo (.com)\u001b[39m\u001b[38;5;124m\"\u001b[39m, \u001b[38;5;124m\"\u001b[39m\u001b[38;5;124mgithub (.com)\u001b[39m\u001b[38;5;124m\"\u001b[39m, \u001b[38;5;124m\"\u001b[39m\u001b[38;5;124mHello (Data Science World)\u001b[39m\u001b[38;5;124m\"\u001b[39m, \u001b[38;5;124m\"\u001b[39m\u001b[38;5;124mData (Scientist)\u001b[39m\u001b[38;5;124m\"\u001b[39m]\n\u001b[0;32m      4\u001b[0m pattern\u001b[38;5;241m=\u001b[39mre\u001b[38;5;241m.\u001b[39mcompile(\u001b[38;5;124mr\u001b[39m\u001b[38;5;124m'\u001b[39m\u001b[38;5;124m\\\u001b[39m\u001b[38;5;124m([^)]*\u001b[39m\u001b[38;5;124m\\\u001b[39m\u001b[38;5;124m)\u001b[39m\u001b[38;5;124m'\u001b[39m)\n\u001b[1;32m----> 5\u001b[0m match\u001b[38;5;241m=\u001b[39mre\u001b[38;5;241m.\u001b[39msub(pattern,\u001b[38;5;124m'\u001b[39m\u001b[38;5;124m()\u001b[39m\u001b[38;5;124m'\u001b[39m,Text,count\u001b[38;5;241m=\u001b[39m\u001b[38;5;241m0\u001b[39m,flags\u001b[38;5;241m=\u001b[39m\u001b[38;5;241m0\u001b[39m)\n\u001b[0;32m      6\u001b[0m \u001b[38;5;28mprint\u001b[39m(match)\n",
      "File \u001b[1;32m~\\anaconda3\\Lib\\re\\__init__.py:185\u001b[0m, in \u001b[0;36msub\u001b[1;34m(pattern, repl, string, count, flags)\u001b[0m\n\u001b[0;32m    178\u001b[0m \u001b[38;5;28;01mdef\u001b[39;00m \u001b[38;5;21msub\u001b[39m(pattern, repl, string, count\u001b[38;5;241m=\u001b[39m\u001b[38;5;241m0\u001b[39m, flags\u001b[38;5;241m=\u001b[39m\u001b[38;5;241m0\u001b[39m):\n\u001b[0;32m    179\u001b[0m \u001b[38;5;250m    \u001b[39m\u001b[38;5;124;03m\"\"\"Return the string obtained by replacing the leftmost\u001b[39;00m\n\u001b[0;32m    180\u001b[0m \u001b[38;5;124;03m    non-overlapping occurrences of the pattern in string by the\u001b[39;00m\n\u001b[0;32m    181\u001b[0m \u001b[38;5;124;03m    replacement repl.  repl can be either a string or a callable;\u001b[39;00m\n\u001b[0;32m    182\u001b[0m \u001b[38;5;124;03m    if a string, backslash escapes in it are processed.  If it is\u001b[39;00m\n\u001b[0;32m    183\u001b[0m \u001b[38;5;124;03m    a callable, it's passed the Match object and must return\u001b[39;00m\n\u001b[0;32m    184\u001b[0m \u001b[38;5;124;03m    a replacement string to be used.\"\"\"\u001b[39;00m\n\u001b[1;32m--> 185\u001b[0m     \u001b[38;5;28;01mreturn\u001b[39;00m _compile(pattern, flags)\u001b[38;5;241m.\u001b[39msub(repl, string, count)\n",
      "\u001b[1;31mTypeError\u001b[0m: expected string or bytes-like object, got 'list'"
     ]
    }
   ],
   "source": [
    "#5-- Create a function in Python to remove the parenthesis in a list of strings. The use of the re.compile() method is mandatory.\n",
    "import re\n",
    "Text=[\"example (.com)\", \"hr@fliprobo (.com)\", \"github (.com)\", \"Hello (Data Science World)\", \"Data (Scientist)\"]\n",
    "pattern=re.compile(r'\\([^)]*\\)')\n",
    "match=re.sub(pattern,'',Text,count=0,flags=0)\n",
    "print(match)\n"
   ]
  },
  {
   "cell_type": "code",
   "execution_count": 22,
   "id": "6b6e7477",
   "metadata": {},
   "outputs": [
    {
     "name": "stdout",
     "output_type": "stream",
     "text": [
      "example\n",
      "hr@fliprobo\n",
      "github\n",
      "Hello\n",
      "Data\n"
     ]
    }
   ],
   "source": [
    "#6-Write a python program to remove the parenthesis area from the text stored in the text file using Regular Expression.\n",
    "#Sample Text: [\"example (.com)\", \"hr@fliprobo (.com)\", \"github (.com)\", \"Hello (Data Science World)\", \"Data (Scientist)\"]\n",
    "#Expected Output: [\"example\", \"hr@fliprobo\", \"github\", \"Hello\", \"Data\"]\n",
    "#Note- Store given sample text in the text file and then to remove the parenthesis area from the text.\n",
    "\n",
    "import re\n",
    "items= [\"example (.com)\", \"hr@fliprobo (.com)\", \"github (.com)\", \"Hello (Data Science World)\", \"Data (Scientist)\"]\n",
    "for item in items:\n",
    "    print(re.sub(r' ?\\([^)]+\\)','',item))"
   ]
  },
  {
   "cell_type": "code",
   "execution_count": 27,
   "id": "27a63804",
   "metadata": {},
   "outputs": [
    {
     "name": "stdout",
     "output_type": "stream",
     "text": [
      "['Importance', 'Of', 'Regular', 'Expressions', 'In', 'Python']\n"
     ]
    }
   ],
   "source": [
    "#7-- Write a regular expression in Python to split a string into uppercase letters.\n",
    "#Sample text: “ImportanceOfRegularExpressionsInPython”\n",
    "#Expected Output: [‘Importance’, ‘Of’, ‘Regular’, ‘Expression’, ‘In’, ‘Python’]\n",
    "\n",
    "import re\n",
    "text= 'ImportanceOfRegularExpressionsInPython'\n",
    "pattern=re.findall('[A-Z][^A-Z]*',text)\n",
    "print(pattern)"
   ]
  },
  {
   "cell_type": "code",
   "execution_count": 30,
   "id": "c6cc81a3",
   "metadata": {},
   "outputs": [
    {
     "name": "stdout",
     "output_type": "stream",
     "text": [
      "RegularExpression1 IsAn2 ImportantTopic3 InPython\n"
     ]
    }
   ],
   "source": [
    "#8-- Create a function in python to insert spaces between words starting with numbers.\n",
    "#Sample Text: “RegularExpression1IsAn2ImportantTopic3InPython\"\n",
    "#Expected Output: RegularExpression 1IsAn 2ImportantTopic 3InPython\n",
    " \n",
    "import re\n",
    "text='RegularExpression1IsAn2ImportantTopic3InPython'\n",
    "pattern=r'(\\d+)([A-Za-z]+)'\n",
    "print(re.sub(pattern,r'\\1 \\2',text))"
   ]
  },
  {
   "cell_type": "code",
   "execution_count": 44,
   "id": "918d17f7",
   "metadata": {},
   "outputs": [
    {
     "name": "stdout",
     "output_type": "stream",
     "text": [
      "RegularExpression 1 Is An2 ImportantTopic 3 InPython\n"
     ]
    }
   ],
   "source": [
    "#9-Create a function in python to insert spaces between words starting with capital letters or with numbers.\n",
    "#Sample Text: “RegularExpression1IsAn2ImportantTopic3InPython\"\n",
    "#Expected Output:  RegularExpression 1 IsAn 2 ImportantTopic 3 InPython\n",
    "\n",
    "import re\n",
    "text='RegularExpression1IsAn2ImportantTopic3InPython'\n",
    "pattern=r'([A-Z][a-z][0-9]+|\\d+)'\n",
    "print(re.sub(pattern, r' \\1 ',text))"
   ]
  },
  {
   "cell_type": "code",
   "execution_count": null,
   "id": "1a971d35",
   "metadata": {},
   "outputs": [],
   "source": [
    "#10-Use the github link below to read the data and create a dataframe. After creating the dataframe extract the first 6 letters of each country and store in the dataframe under a new column called first_five_letters.\n",
    "Github Link-  https://raw.githubusercontent.com/dsrscientist/DSData/master/happiness_score_dataset.csv\n"
   ]
  },
  {
   "cell_type": "code",
   "execution_count": 22,
   "id": "69cf3fb2",
   "metadata": {},
   "outputs": [
    {
     "name": "stdout",
     "output_type": "stream",
     "text": [
      "enter a string123Santu\n",
      "it is a match\n"
     ]
    }
   ],
   "source": [
    "#11-Write a Python program to match a string that contains only upper and lowercase letters, numbers, and underscores.\n",
    "import re\n",
    "my_string=input('enter a string')\n",
    "m=re.search('[^0-9A-Za-z_]+',my_string)\n",
    "if m:\n",
    "    print('no match found')\n",
    "else:\n",
    "    print('it is a match')"
   ]
  },
  {
   "cell_type": "code",
   "execution_count": 23,
   "id": "352cacd5",
   "metadata": {},
   "outputs": [
    {
     "name": "stdout",
     "output_type": "stream",
     "text": [
      "<re.Match object; span=(0, 1), match='1'>\n"
     ]
    }
   ],
   "source": [
    "#12-Write a Python program where a string will start with a specific number. \n",
    "import re\n",
    "#string start with a specified number\n",
    "text='123 beds in hospital'\n",
    "pattern= re.search('^\\s*[0-9]',text)\n",
    "print(pattern)\n"
   ]
  },
  {
   "cell_type": "code",
   "execution_count": 3,
   "id": "6bbc31cc",
   "metadata": {},
   "outputs": [
    {
     "name": "stdout",
     "output_type": "stream",
     "text": [
      "414.5.3.17\n"
     ]
    }
   ],
   "source": [
    "#13-- Write a Python program to remove leading zeros from an IP address\n",
    "import re\n",
    "#ip address 414.05.003.0017\n",
    "IP='414.05.003.0017'\n",
    "pattern=re.sub('\\.[0]*','.',IP)\n",
    "print(pattern)"
   ]
  },
  {
   "cell_type": "code",
   "execution_count": 77,
   "id": "33f1eb0f",
   "metadata": {},
   "outputs": [
    {
     "name": "stdout",
     "output_type": "stream",
     "text": [
      "[]\n"
     ]
    }
   ],
   "source": [
    "#14-- Write a regular expression in python to match a date string in the form of Month name followed by day number and year stored in a text file.Sample text :  ' On August 15th 1947 that India was declared independent from British colonialism, and the reins of control were handed over to the leaders of the Country’.\n",
    "#Expected Output- August 15th 1947\n",
    "#Note- Store given sample text in the text file and then extract the date string asked format.\n",
    "\n",
    "import re\n",
    "text= 'On August 15th 1947 that India was declared independent from British colonialism.'\n",
    "pattern= r\"\\b([A-Z][a-z0-9]+)\\d{2}(?:st|nd|rd|th) \\d{4} \\b\"\n",
    "matches=re.findall(pattern,text)\n",
    "print(matches)"
   ]
  },
  {
   "cell_type": "code",
   "execution_count": 16,
   "id": "3e58b7a3",
   "metadata": {},
   "outputs": [
    {
     "name": "stdout",
     "output_type": "stream",
     "text": [
      "it is a match\n"
     ]
    }
   ],
   "source": [
    "#15-- Write a Python program to search some literals strings in a string. \n",
    "#Sample text : 'The quick brown fox jumps over the lazy dog.'\n",
    "#Searched words : 'fox', 'dog', 'horse'\n",
    "\n",
    "import re\n",
    "my_string='the quick brown fox jumps over the lazy dog.'\n",
    "match=re.search('fox|dog|horse',my_string)\n",
    "if match:\n",
    "    print('it is a match')\n",
    "else:\n",
    "    print('no match found')"
   ]
  },
  {
   "cell_type": "code",
   "execution_count": 17,
   "id": "47756594",
   "metadata": {},
   "outputs": [
    {
     "name": "stdout",
     "output_type": "stream",
     "text": [
      "it is a match\n"
     ]
    }
   ],
   "source": [
    "#16-Write a Python program to search a literals string in a string and also find the location within the original string where the pattern occurs\n",
    "#Sample text : 'The quick brown fox jumps over the lazy dog.'\n",
    "#Searched words : 'fox'\n",
    "\n",
    "import re\n",
    "my_string='the quick brown fox jumps over the lazy dog.'\n",
    "m= re.search('\\Wfox\\W',my_string)\n",
    "if m:\n",
    "    print('it is a match')\n",
    "else:\n",
    "    print('no match found')"
   ]
  },
  {
   "cell_type": "code",
   "execution_count": 18,
   "id": "6fab36f4",
   "metadata": {},
   "outputs": [
    {
     "name": "stdout",
     "output_type": "stream",
     "text": [
      "string'exercise' found at position (7, 15)\n",
      "string'exercise' found at position (20, 28)\n",
      "string'exercise' found at position (31, 39)\n"
     ]
    }
   ],
   "source": [
    "#17-Write a Python program to find the substrings within a string.\n",
    "#Sample text : 'Python exercises, PHP exercises, C# exercises'\n",
    "#Pattern : 'exercises'.\n",
    "import re\n",
    "my_string='python exercise,PHP exercise,C#exercise'\n",
    "my_substring= 'exercise'\n",
    "matches=re.finditer(my_substring,my_string)\n",
    "for match in matches:\n",
    "    print('string\\'{}\\''.format(my_substring),'found at position',match.span())\n"
   ]
  },
  {
   "cell_type": "code",
   "execution_count": 2,
   "id": "5be3e794",
   "metadata": {},
   "outputs": [
    {
     "name": "stdout",
     "output_type": "stream",
     "text": [
      "found \"exercise\" at 19:27\n"
     ]
    }
   ],
   "source": [
    "#18-Write a Python program to find the occurrence and position of the substrings within a string.\n",
    "\n",
    "import re\n",
    "text= 'python exercise,ph exercise'\n",
    "pattern='exercise'\n",
    "for match in re.finditer(pattern,text):\n",
    "    start= match.start()\n",
    "    end=match.end()\n",
    "print('found \"%s\" at %d:%d'%(text[start:end],start,end))\n"
   ]
  },
  {
   "cell_type": "code",
   "execution_count": 21,
   "id": "554a0723",
   "metadata": {},
   "outputs": [
    {
     "name": "stdout",
     "output_type": "stream",
     "text": [
      "02-11-2023\n"
     ]
    }
   ],
   "source": [
    "#19-Write a Python program to convert a date of yyyy-mm-dd format to dd-mm-yyyy format.\n",
    "import re\n",
    "date='2023-11-02'\n",
    "matches=re.split('-',date)\n",
    "new_date='-'.join(matches[::-1])\n",
    "print(new_date)"
   ]
  },
  {
   "cell_type": "code",
   "execution_count": 7,
   "id": "b8920859",
   "metadata": {},
   "outputs": [
    {
     "name": "stdout",
     "output_type": "stream",
     "text": [
      "['01.12', '0132.12', '2.31', '145.8', '3.01', '27.25', '0.25']\n"
     ]
    }
   ],
   "source": [
    "#20-Create a function in python to find all decimal numbers with a precision of 1 or 2 in a string. The use of the re.compile() method is mandatory.\n",
    "#Sample Text: \"01.12 0132.123 2.31875 145.8 3.01 27.25 0.25\"\n",
    "#Expected Output: ['01.12', '145.8', '3.01', '27.25', '0.25']\n",
    "\n",
    "import re\n",
    "decimal_number=\"01.12 0132.123 2.31875 145.8 3.01 27.25 0.25\"\n",
    "pattern=re.compile(r'\\d+\\.\\d{1,2}')\n",
    "match= re.findall(pattern,decimal_number)\n",
    "print(match)\n"
   ]
  },
  {
   "cell_type": "code",
   "execution_count": 1,
   "id": "bf795549",
   "metadata": {},
   "outputs": [
    {
     "name": "stdout",
     "output_type": "stream",
     "text": [
      "50\n",
      "index position: 62\n"
     ]
    }
   ],
   "source": [
    "#21-Write a Python program to separate and print the numbers and their position of a given string.\n",
    "import re\n",
    "#input\n",
    "text='the following example creates an arraylist with a capacity of 50 elements'\n",
    "for match in re.finditer('\\d+',text):\n",
    "    print(match.group(0))\n",
    "    print('index position:',match.start())"
   ]
  },
  {
   "cell_type": "code",
   "execution_count": 6,
   "id": "ca0ecd5d",
   "metadata": {},
   "outputs": [
    {
     "name": "stdout",
     "output_type": "stream",
     "text": [
      "['947', '896', '926', '524', '734', '950', '642']\n",
      "950\n"
     ]
    }
   ],
   "source": [
    "#22-Write a regular expression in python program to extract maximum/largest numeric value from a string.\n",
    "#Sample Text:  'My marks in each semester are: 947, 896, 926, 524, 734, 950, 642'\n",
    "#Expected Output: 950\n",
    "\n",
    "import re\n",
    "text='My marks in each semester are: 947, 896, 926, 524, 734, 950, 642'\n",
    "number= re.findall(r'\\d+',text)\n",
    "print(number)\n",
    "maximum=max(number)\n",
    "print(maximum)"
   ]
  },
  {
   "cell_type": "code",
   "execution_count": 1,
   "id": "b3cd863d",
   "metadata": {},
   "outputs": [
    {
     "name": "stdout",
     "output_type": "stream",
     "text": [
      " Regular Expression Is An Important Topic In Python\n"
     ]
    }
   ],
   "source": [
    "#23-Create a function in python to insert spaces between words starting with capital letters.\n",
    "#Sample Text: “RegularExpressionIsAnImportantTopicInPython\"\n",
    "#Expected Output: Regular Expression Is An Important Topic In Python\n",
    "\n",
    "import re\n",
    "text='RegularExpressionIsAnImportantTopicInPython'\n",
    "pattern=r'([A-Z][a-z]+)'\n",
    "print(re.sub(pattern, r' \\1',text))\n"
   ]
  },
  {
   "cell_type": "code",
   "execution_count": 3,
   "id": "e166d560",
   "metadata": {},
   "outputs": [
    {
     "name": "stdout",
     "output_type": "stream",
     "text": [
      "enter a stringSantu\n",
      "it is match\n"
     ]
    }
   ],
   "source": [
    "#24-Python regex to find sequences of one upper case letter followed by lower case letters\n",
    "\n",
    "import re\n",
    "text=input('enter a string')\n",
    "pattern=re.compile('[A-Z]+[a-z]+')\n",
    "matches=pattern.search(text)\n",
    "if matches:\n",
    "    print('it is match')\n",
    "else:\n",
    "    print('no match found')"
   ]
  },
  {
   "cell_type": "code",
   "execution_count": 8,
   "id": "ef84dd23",
   "metadata": {},
   "outputs": [
    {
     "name": "stdout",
     "output_type": "stream",
     "text": [
      "Hello hello world\n"
     ]
    }
   ],
   "source": [
    "#25-- Write a Python program to remove continuous duplicate words from Sentence using Regular Expression.\n",
    "#Sample Text: \"Hello hello world world\"\n",
    "#Expected Output: Hello hello world\n",
    "\n",
    "import re\n",
    "text= \"Hello hello world world\"\n",
    "pattern=r'\\b(\\w+)(\\s+\\1\\b)+'\n",
    "match=re.sub(pattern,r'\\1',text)\n",
    "print(match)"
   ]
  },
  {
   "cell_type": "code",
   "execution_count": 78,
   "id": "e7647f35",
   "metadata": {},
   "outputs": [],
   "source": [
    "#26-Write a python program using RegEx to accept string ending with alphanumeric character.\n",
    "\n",
    "import re\n",
    "def check_string(string):\n",
    "    pattern=r'\\w$'\n",
    "    match=re.search(pattern,string)\n",
    "    if match:\n",
    "        print('true')\n",
    "    else:\n",
    "        print('false')"
   ]
  },
  {
   "cell_type": "code",
   "execution_count": 80,
   "id": "e5a14da1",
   "metadata": {},
   "outputs": [
    {
     "name": "stdout",
     "output_type": "stream",
     "text": [
      "['#Doltiwal', '#xyzabc', '#Demonetization']\n"
     ]
    }
   ],
   "source": [
    "#27-Write a python program using RegEx to extract the hashtags.\n",
    "import re\n",
    "Text= \"\"\"RT @kapil_kausik: #Doltiwal I mean #xyzabc is \"hurt\" by #Demonetization as the same has rendered USELESS <ed><U+00A0><U+00BD><ed><U+00B1><U+0089> \"acquired funds\" No wo\"\"\"\n",
    "pattern= re.findall(r'#\\w+',Text)\n",
    "print(pattern)\n"
   ]
  },
  {
   "cell_type": "code",
   "execution_count": 81,
   "id": "1031bced",
   "metadata": {},
   "outputs": [
    {
     "name": "stdout",
     "output_type": "stream",
     "text": [
      "@Jags123456 Bharat band on 28??<ed><ed>Those who  are protesting #demonetization  are all different party leaders\n"
     ]
    }
   ],
   "source": [
    "#28-Write a python program using RegEx to remove <U+..> like symbols\n",
    "#Check the below sample text, there are strange symbols something of the sort <U+..> all over the place. You need to come up with a general Regex expression that will cover all such symbols.\n",
    "#Sample Text: \"@Jags123456 Bharat band on 28??<ed><U+00A0><U+00BD><ed><U+00B8><U+0082>Those who  are protesting #demonetization  are all different party leaders\"\n",
    "#Expected Output: @Jags123456 Bharat band on 28??<ed><ed>Those who  are protesting #demonetization  are all different party leaders\n",
    "\n",
    "import re\n",
    "text='@Jags123456 Bharat band on 28??<ed><U+00A0><U+00BD><ed><U+00B8><U+0082>Those who  are protesting #demonetization  are all different party leaders'\n",
    "pattern= r'<U\\+\\w{4}>'\n",
    "print(re.sub(pattern,'',text))"
   ]
  },
  {
   "cell_type": "code",
   "execution_count": 82,
   "id": "6e45d1a6",
   "metadata": {},
   "outputs": [
    {
     "name": "stdout",
     "output_type": "stream",
     "text": [
      "['12-09-1992', '15-12-1999']\n"
     ]
    }
   ],
   "source": [
    "#29-- Write a python program to extract dates from the text stored in the text file.\n",
    "#Sample Text: Ron was born on 12-09-1992 and he was admitted to school 15-12-1999.\n",
    "#Note- Store this sample text in the file and then extract dates.\n",
    "\n",
    "import re\n",
    "text= 'Ron was born on 12-09-1992 and he was admitted to school 15-12-1999'\n",
    "pattern=r'\\d{2}-\\d{2}-\\d{4}'\n",
    "dates=re.findall(pattern,text)\n",
    "print(dates)"
   ]
  },
  {
   "cell_type": "code",
   "execution_count": 83,
   "id": "c3d343f2",
   "metadata": {},
   "outputs": [
    {
     "name": "stdout",
     "output_type": "stream",
     "text": [
      " following example creates  ArrayList  a capacity   elements. 4 elements   added   ArrayList   ArrayList  trimmed accordingly\n"
     ]
    }
   ],
   "source": [
    "#30-Create a function in python to remove all words from a string of length between 2 and 4.\n",
    "#The use of the re.compile() method is mandatory.\n",
    "#Sample Text: \"The following example creates an ArrayList with a capacity of 50 elements. 4 elements are then added to the ArrayList and the ArrayList is trimmed accordingly.\"\n",
    "#Expected Output:  following example creates ArrayList a capacity elements. 4 elements added ArrayList ArrayList trimmed accordingly.\n",
    "\n",
    "import re\n",
    "text='The following example creates an ArrayList with a capacity of 50 elements. 4 elements are then added to the ArrayList and the ArrayList is trimmed accordingly'\n",
    "pattern=re.compile(r'\\b\\w{2,4}\\b')\n",
    "print(re.sub(pattern,'',text))"
   ]
  },
  {
   "cell_type": "code",
   "execution_count": null,
   "id": "52cf92d5",
   "metadata": {},
   "outputs": [],
   "source": []
  }
 ],
 "metadata": {
  "kernelspec": {
   "display_name": "Python 3 (ipykernel)",
   "language": "python",
   "name": "python3"
  },
  "language_info": {
   "codemirror_mode": {
    "name": "ipython",
    "version": 3
   },
   "file_extension": ".py",
   "mimetype": "text/x-python",
   "name": "python",
   "nbconvert_exporter": "python",
   "pygments_lexer": "ipython3",
   "version": "3.11.5"
  }
 },
 "nbformat": 4,
 "nbformat_minor": 5
}
